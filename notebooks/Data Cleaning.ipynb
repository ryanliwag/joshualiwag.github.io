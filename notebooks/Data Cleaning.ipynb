{
 "cells": [
  {
   "cell_type": "code",
   "execution_count": 1,
   "metadata": {
    "collapsed": true,
    "deletable": true,
    "editable": true
   },
   "outputs": [],
   "source": [
    "import pandas as pd\n",
    "from matplotlib import pyplot as plt"
   ]
  },
  {
   "cell_type": "code",
   "execution_count": 2,
   "metadata": {
    "collapsed": false,
    "deletable": true,
    "editable": true
   },
   "outputs": [],
   "source": [
    "data=pd.read_csv(\"total_final.csv\")"
   ]
  },
  {
   "cell_type": "code",
   "execution_count": 3,
   "metadata": {
    "collapsed": false,
    "deletable": true,
    "editable": true,
    "scrolled": false
   },
   "outputs": [
    {
     "data": {
      "text/html": [
       "<div>\n",
       "<style scoped>\n",
       "    .dataframe tbody tr th:only-of-type {\n",
       "        vertical-align: middle;\n",
       "    }\n",
       "\n",
       "    .dataframe tbody tr th {\n",
       "        vertical-align: top;\n",
       "    }\n",
       "\n",
       "    .dataframe thead th {\n",
       "        text-align: right;\n",
       "    }\n",
       "</style>\n",
       "<table border=\"1\" class=\"dataframe\">\n",
       "  <thead>\n",
       "    <tr style=\"text-align: right;\">\n",
       "      <th></th>\n",
       "      <th>date</th>\n",
       "      <th>time</th>\n",
       "      <th>holiday</th>\n",
       "      <th>na_entry</th>\n",
       "      <th>na_exit</th>\n",
       "      <th>qa_entry</th>\n",
       "      <th>qa_exit</th>\n",
       "      <th>gk_entry</th>\n",
       "      <th>gk_exit</th>\n",
       "      <th>c_entry</th>\n",
       "      <th>...</th>\n",
       "      <th>g_entry</th>\n",
       "      <th>g_exit</th>\n",
       "      <th>b_entry</th>\n",
       "      <th>b_exit</th>\n",
       "      <th>a_entry</th>\n",
       "      <th>a_exit</th>\n",
       "      <th>m_entry</th>\n",
       "      <th>m_exit</th>\n",
       "      <th>t_entry</th>\n",
       "      <th>t_exit</th>\n",
       "    </tr>\n",
       "  </thead>\n",
       "  <tbody>\n",
       "    <tr>\n",
       "      <th>0</th>\n",
       "      <td>01/01/17</td>\n",
       "      <td>6</td>\n",
       "      <td>1.0</td>\n",
       "      <td>418</td>\n",
       "      <td>0</td>\n",
       "      <td>139</td>\n",
       "      <td>0</td>\n",
       "      <td>68</td>\n",
       "      <td>0</td>\n",
       "      <td>260</td>\n",
       "      <td>...</td>\n",
       "      <td>16</td>\n",
       "      <td>44</td>\n",
       "      <td>11</td>\n",
       "      <td>25</td>\n",
       "      <td>18</td>\n",
       "      <td>57</td>\n",
       "      <td>6</td>\n",
       "      <td>31</td>\n",
       "      <td>0</td>\n",
       "      <td>1</td>\n",
       "    </tr>\n",
       "    <tr>\n",
       "      <th>1</th>\n",
       "      <td>01/01/17</td>\n",
       "      <td>7</td>\n",
       "      <td>1.0</td>\n",
       "      <td>689</td>\n",
       "      <td>203</td>\n",
       "      <td>300</td>\n",
       "      <td>176</td>\n",
       "      <td>114</td>\n",
       "      <td>65</td>\n",
       "      <td>431</td>\n",
       "      <td>...</td>\n",
       "      <td>296</td>\n",
       "      <td>318</td>\n",
       "      <td>97</td>\n",
       "      <td>80</td>\n",
       "      <td>250</td>\n",
       "      <td>290</td>\n",
       "      <td>301</td>\n",
       "      <td>164</td>\n",
       "      <td>1089</td>\n",
       "      <td>793</td>\n",
       "    </tr>\n",
       "    <tr>\n",
       "      <th>2</th>\n",
       "      <td>01/01/17</td>\n",
       "      <td>8</td>\n",
       "      <td>1.0</td>\n",
       "      <td>926</td>\n",
       "      <td>440</td>\n",
       "      <td>321</td>\n",
       "      <td>229</td>\n",
       "      <td>169</td>\n",
       "      <td>117</td>\n",
       "      <td>721</td>\n",
       "      <td>...</td>\n",
       "      <td>417</td>\n",
       "      <td>338</td>\n",
       "      <td>82</td>\n",
       "      <td>93</td>\n",
       "      <td>268</td>\n",
       "      <td>348</td>\n",
       "      <td>266</td>\n",
       "      <td>173</td>\n",
       "      <td>1059</td>\n",
       "      <td>945</td>\n",
       "    </tr>\n",
       "    <tr>\n",
       "      <th>3</th>\n",
       "      <td>01/01/17</td>\n",
       "      <td>9</td>\n",
       "      <td>1.0</td>\n",
       "      <td>1283</td>\n",
       "      <td>583</td>\n",
       "      <td>453</td>\n",
       "      <td>313</td>\n",
       "      <td>223</td>\n",
       "      <td>132</td>\n",
       "      <td>949</td>\n",
       "      <td>...</td>\n",
       "      <td>597</td>\n",
       "      <td>561</td>\n",
       "      <td>61</td>\n",
       "      <td>98</td>\n",
       "      <td>257</td>\n",
       "      <td>644</td>\n",
       "      <td>263</td>\n",
       "      <td>167</td>\n",
       "      <td>1450</td>\n",
       "      <td>1348</td>\n",
       "    </tr>\n",
       "    <tr>\n",
       "      <th>4</th>\n",
       "      <td>01/01/17</td>\n",
       "      <td>10</td>\n",
       "      <td>1.0</td>\n",
       "      <td>1903</td>\n",
       "      <td>861</td>\n",
       "      <td>808</td>\n",
       "      <td>298</td>\n",
       "      <td>323</td>\n",
       "      <td>140</td>\n",
       "      <td>1227</td>\n",
       "      <td>...</td>\n",
       "      <td>782</td>\n",
       "      <td>623</td>\n",
       "      <td>54</td>\n",
       "      <td>99</td>\n",
       "      <td>225</td>\n",
       "      <td>873</td>\n",
       "      <td>327</td>\n",
       "      <td>244</td>\n",
       "      <td>1841</td>\n",
       "      <td>1702</td>\n",
       "    </tr>\n",
       "  </tbody>\n",
       "</table>\n",
       "<p>5 rows × 29 columns</p>\n",
       "</div>"
      ],
      "text/plain": [
       "       date  time  holiday  na_entry  na_exit  qa_entry  qa_exit  gk_entry  \\\n",
       "0  01/01/17     6      1.0       418        0       139        0        68   \n",
       "1  01/01/17     7      1.0       689      203       300      176       114   \n",
       "2  01/01/17     8      1.0       926      440       321      229       169   \n",
       "3  01/01/17     9      1.0      1283      583       453      313       223   \n",
       "4  01/01/17    10      1.0      1903      861       808      298       323   \n",
       "\n",
       "   gk_exit  c_entry   ...    g_entry  g_exit  b_entry  b_exit  a_entry  \\\n",
       "0        0      260   ...         16      44       11      25       18   \n",
       "1       65      431   ...        296     318       97      80      250   \n",
       "2      117      721   ...        417     338       82      93      268   \n",
       "3      132      949   ...        597     561       61      98      257   \n",
       "4      140     1227   ...        782     623       54      99      225   \n",
       "\n",
       "   a_exit  m_entry  m_exit  t_entry  t_exit  \n",
       "0      57        6      31        0       1  \n",
       "1     290      301     164     1089     793  \n",
       "2     348      266     173     1059     945  \n",
       "3     644      263     167     1450    1348  \n",
       "4     873      327     244     1841    1702  \n",
       "\n",
       "[5 rows x 29 columns]"
      ]
     },
     "execution_count": 3,
     "metadata": {},
     "output_type": "execute_result"
    }
   ],
   "source": [
    "data.head()"
   ]
  },
  {
   "cell_type": "code",
   "execution_count": 4,
   "metadata": {
    "collapsed": false,
    "deletable": true,
    "editable": true
   },
   "outputs": [],
   "source": [
    "data['date'] = pd.to_datetime(data[\"date\"])"
   ]
  },
  {
   "cell_type": "code",
   "execution_count": 5,
   "metadata": {
    "collapsed": false,
    "deletable": true,
    "editable": true,
    "scrolled": true
   },
   "outputs": [],
   "source": [
    "# Create two more columns which will be used as input\n",
    "data[\"days\"]=data['date'].map(lambda x:x.day)\n",
    "data[\"weekday\"]=data['date'].dt.weekday"
   ]
  },
  {
   "cell_type": "code",
   "execution_count": 6,
   "metadata": {
    "collapsed": false,
    "deletable": true,
    "editable": true,
    "scrolled": true
   },
   "outputs": [
    {
     "data": {
      "image/png": "[encoded data removed]",
      "text/plain": [
       "<matplotlib.figure.Figure at 0x7f73ccd2c8d0>"
      ]
     },
     "metadata": {},
     "output_type": "display_data"
    }
   ],
   "source": [
    "plt.plot(data[\"na_entry\"])\n",
    "plt.show()"
   ]
  },
  {
   "cell_type": "code",
   "execution_count": 7,
   "metadata": {
    "collapsed": false,
    "deletable": true,
    "editable": true,
    "scrolled": true
   },
   "outputs": [
    {
     "data": {
      "text/plain": [
       "date        False\n",
       "time        False\n",
       "holiday      True\n",
       "na_entry    False\n",
       "na_exit     False\n",
       "qa_entry    False\n",
       "qa_exit     False\n",
       "gk_entry    False\n",
       "gk_exit     False\n",
       "c_entry     False\n",
       "c_exit      False\n",
       "s_entry     False\n",
       "s_exit      False\n",
       "o_entry     False\n",
       "o_exit      False\n",
       "sb_entry    False\n",
       "sb_exit     False\n",
       "ba_entry    False\n",
       "ba_exit     False\n",
       "g_entry     False\n",
       "g_exit      False\n",
       "b_entry     False\n",
       "b_exit      False\n",
       "a_entry     False\n",
       "a_exit      False\n",
       "m_entry     False\n",
       "m_exit      False\n",
       "t_entry     False\n",
       "t_exit      False\n",
       "days        False\n",
       "weekday     False\n",
       "dtype: bool"
      ]
     },
     "execution_count": 7,
     "metadata": {},
     "output_type": "execute_result"
    }
   ],
   "source": [
    "data.isnull().any()"
   ]
  },
  {
   "cell_type": "code",
   "execution_count": 8,
   "metadata": {
    "collapsed": false,
    "deletable": true,
    "editable": true,
    "scrolled": true
   },
   "outputs": [],
   "source": [
    "data[\"holiday\"]=data[\"holiday\"].fillna(0)"
   ]
  },
  {
   "cell_type": "code",
   "execution_count": 9,
   "metadata": {
    "collapsed": false,
    "deletable": true,
    "editable": true
   },
   "outputs": [],
   "source": [
    "data.to_csv(\"dataset-1.csv\", index_label=\"None\")"
   ]
  }
 ],
 "metadata": {
  "kernelspec": {
   "display_name": "Python 3",
   "language": "python",
   "name": "python3"
  },
  "language_info": {
   "codemirror_mode": {
    "name": "ipython",
    "version": 3
   },
   "file_extension": ".py",
   "mimetype": "text/x-python",
   "name": "python",
   "nbconvert_exporter": "python",
   "pygments_lexer": "ipython3",
   "version": "3.5.2"
  }
 },
 "nbformat": 4,
 "nbformat_minor": 2
}
